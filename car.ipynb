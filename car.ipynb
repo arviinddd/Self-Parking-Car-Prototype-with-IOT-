{
 "cells": [
  {
   "cell_type": "code",
   "execution_count": null,
   "id": "6a9b1dfa-26d2-4575-98b5-0d55d78ac259",
   "metadata": {},
   "outputs": [],
   "source": [
    "import cv2\n",
    "import numpy as np\n",
    "\n",
    "# Load Haar cascade for object detection\n",
    "object_cascade = cv2.CascadeClassifier(cv2.data.haarcascades + 'haarcascade_car.xml')\n",
    "\n",
    "def detect_objects_and_homography(image, ref_points, dst_points):\n",
    "    # Convert image to grayscale\n",
    "    gray = cv2.cvtColor(image, cv2.COLOR_BGR2GRAY)\n",
    "    # Detect objects using the Haar cascade\n",
    "    objects = object_cascade.detectMultiScale(gray, 1.3, 5)\n",
    "    for (x, y, w, h) in objects:\n",
    "        cv2.rectangle(image, (x, y), (x + w, y + h), (255, 0, 0), 2)  # Draw rectangles around detected objects\n",
    "\n",
    "    # Apply Homography based reference points provided\n",
    "    if ref_points is not None and dst_points is not None:\n",
    "        h_matrix, _ = cv2.findHomography(ref_points, dst_points)\n",
    "        image = cv2.warpPerspective(image, h_matrix, (image.shape[1], image.shape[0]))\n",
    "\n",
    "    return image\n",
    "\n",
    "cap = cv2.VideoCapture(0)  \n",
    "\n",
    "ref_points = np.float32([[10, 100], [100, 100], [50, 200], [200, 200]])  \n",
    "dst_points = np.float32([[0, 0], [300, 0], [0, 300], [300, 300]])  \n",
    "\n",
    "while True:\n",
    "    ret, frame = cap.read()\n",
    "    if ret:\n",
    "        processed_frame = detect_objects_and_homography(frame, ref_points, dst_points)\n",
    "        cv2.imshow('Processed Frame', processed_frame)\n",
    "    if cv2.waitKey(1) & 0xFF == ord('q'):  # Exit loop when 'q' is pressed\n",
    "        break\n",
    "\n",
    "cap.release()\n",
    "cv2.destroyAllWindows()\n"
   ]
  }
 ],
 "metadata": {
  "kernelspec": {
   "display_name": "Python 3 (ipykernel)",
   "language": "python",
   "name": "python3"
  },
  "language_info": {
   "codemirror_mode": {
    "name": "ipython",
    "version": 3
   },
   "file_extension": ".py",
   "mimetype": "text/x-python",
   "name": "python",
   "nbconvert_exporter": "python",
   "pygments_lexer": "ipython3",
   "version": "3.11.8"
  }
 },
 "nbformat": 4,
 "nbformat_minor": 5
}
